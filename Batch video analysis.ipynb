{
 "cells": [
  {
   "cell_type": "markdown",
   "metadata": {},
   "source": [
    "# Batch video analysis\n",
    "#### Author: Youngbin Kim\n",
    "#### Last updated: 02/21/24\n",
    "\n",
    "Note: This notebook goes over basic batch analysis of multiple videos in a folder for contractility, calcium handling, and pillar deflection functional assessment. To analyze a single video, please check the single video analysis notebook. For a more user friendly approach, download the GUI program on our [website](https://beatprofiler.github.io)."
   ]
  },
  {
   "cell_type": "markdown",
   "metadata": {},
   "source": [
    "## Workflow Outline\n",
    "#### Option A: Using preset .yaml file (simple)\n",
    "#### Option B: Defining configuration manually (more customized)\n",
    "1. Defining resources available on the computer\n",
    "2. Selecting files for analysis and defining export paths\n",
    "<br>(Optional) Defining splits and excluding the beginning from analysis\n",
    "\n",
    "3. Defining what to analyze and export\n",
    "4. Read video and extract time series\n",
    "5. Analyze trace to segment beats and extract function\n",
    "6. Save and export Excel files\n",
    "<br>(Bonus) Visualize in Jupyter Notebook"
   ]
  },
  {
   "cell_type": "markdown",
   "metadata": {},
   "source": [
    "## Import packages"
   ]
  },
  {
   "cell_type": "code",
   "execution_count": 1,
   "metadata": {
    "ExecuteTime": {
     "end_time": "2021-05-10T19:15:08.410199Z",
     "start_time": "2021-05-10T19:15:01.833601Z"
    }
   },
   "outputs": [],
   "source": [
    "import beatprofiler as bp\n",
    "import matplotlib.pyplot as plt\n",
    "import pandas as pd\n",
    "import numpy as np\n",
    "import os\n",
    "import glob\n",
    "import warnings"
   ]
  },
  {
   "cell_type": "markdown",
   "metadata": {},
   "source": [
    "## Option A: Use the configuration file (simple)\n",
    "\n",
    "Configuration files are generated from a previous BeatProfiler GUI run and can be opened up in a text editor for additional modifications. They are Python dictionaries containing parameters for class methods."
   ]
  },
  {
   "cell_type": "code",
   "execution_count": 2,
   "metadata": {},
   "outputs": [],
   "source": [
    "# folder containing all your videos\n",
    "folder_to_analyze = \"sample videos\"\n",
    "# export folder to save your analysis\n",
    "export_path = \"export\"\n",
    "# modify this configuration file according to your videos\n",
    "yaml_file_path = \"tissue.yaml\""
   ]
  },
  {
   "cell_type": "code",
   "execution_count": 3,
   "metadata": {
    "scrolled": true
   },
   "outputs": [
    {
     "name": "stderr",
     "output_type": "stream",
     "text": [
      "\n",
      "0: 576x1024 2 1s, 212.4ms\n",
      "Speed: 31.0ms preprocess, 212.4ms inference, 97.0ms postprocess per image at shape (1, 3, 1024, 1024)\n",
      "\n",
      "0: 576x1024 1 t, 217.8ms\n",
      "Speed: 29.0ms preprocess, 217.8ms inference, 6.0ms postprocess per image at shape (1, 3, 1024, 1024)\n"
     ]
    },
    {
     "data": {
      "text/plain": [
       "<Figure size 640x480 with 0 Axes>"
      ]
     },
     "metadata": {},
     "output_type": "display_data"
    }
   ],
   "source": [
    "batch_analyzer = bp.BatchVideoAnalyzer(folder_path = folder_to_analyze,\n",
    "                                       config_file = yaml_file_path)\n",
    "batch_analyzer.analyze_and_export(export_path = export_path)"
   ]
  },
  {
   "cell_type": "markdown",
   "metadata": {},
   "source": [
    "##### Exported files should appear in the folder defined in your \"export_path\" variable."
   ]
  },
  {
   "cell_type": "markdown",
   "metadata": {},
   "source": [
    "## Option B: Define your own configuration settings directly (more customized)\n",
    "\n",
    "Instructions: Blocks starting with '### DEFINE' need to be modified with your own parameters. Other blocks remain as is unless you want to customize analysis."
   ]
  },
  {
   "cell_type": "markdown",
   "metadata": {},
   "source": [
    "### 1. Defining resources available on the computer\n",
    "\n",
    "If you are dealing with analysis of large videos, or your computer is low on memory (RAM), set this parameter to <b>True</b>. This will load the video in chunks, which will enable analysis in resource intensive conditions while sacrificing analysis speed."
   ]
  },
  {
   "cell_type": "code",
   "execution_count": 4,
   "metadata": {},
   "outputs": [],
   "source": [
    "low_ram = False"
   ]
  },
  {
   "cell_type": "markdown",
   "metadata": {},
   "source": [
    "### 2. Selecting files for analysis and defining export paths"
   ]
  },
  {
   "cell_type": "code",
   "execution_count": 5,
   "metadata": {},
   "outputs": [],
   "source": [
    "### DEFINE file related parameters\n",
    "\n",
    "# folder containing all your videos\n",
    "folder_path = \"sample videos\"\n",
    "\n",
    "# file extensions of your video\n",
    "# all other file extensions in the folder will be ignored\n",
    "file_ext = \"mov\"\n",
    "\n",
    "# frame rate of each video\n",
    "frame_rate = 20\n",
    "\n",
    "# acquisition mode is None by default\n",
    "# if acquisition mode is \"pycromanager\", it splits large video files into chunks\n",
    "# the program assumes a file extension of .tif and stitches files within the same folder \n",
    "acq_mode = None\n",
    "\n",
    "# define where to save everything\n",
    "export_path = \"export\""
   ]
  },
  {
   "cell_type": "code",
   "execution_count": 6,
   "metadata": {},
   "outputs": [
    {
     "data": {
      "text/plain": [
       "['sample videos\\\\bf tissue 20fps.mov']"
      ]
     },
     "execution_count": 6,
     "metadata": {},
     "output_type": "execute_result"
    }
   ],
   "source": [
    "# recursively search thru folder to find files of given extension\n",
    "file_list = glob.glob(os.path.normpath(os.path.join(folder_path, \"**/*\"+\".\"+file_ext)), recursive=True)\n",
    "\n",
    "# for pycromanager \n",
    "if acq_mode == \"pycromanager\":\n",
    "    file_list = np.unique(np.array([os.path.dirname(os.path.dirname(f)) for f in file_list]))\n",
    "\n",
    "file_list"
   ]
  },
  {
   "cell_type": "markdown",
   "metadata": {},
   "source": [
    "### (Optional) Defining splits and excluding the beginning from analysis"
   ]
  },
  {
   "cell_type": "code",
   "execution_count": 7,
   "metadata": {},
   "outputs": [],
   "source": [
    "### DEFINE splits, units, and skip_first_n parameters (Optional)\n",
    "\n",
    "# When undefined, splits = [[0,None]], indicating a single split encompassing the whole video\n",
    "# and skip_first_n = 0\n",
    "\n",
    "\n",
    "# BeatProfiler can do split analysis for different segments of each video\n",
    "# This is useful for continuous videos in which you have different external stimuli like drug exposure or electrical stimulation.\n",
    "# e.g. 0-20 seconds of baseline recording, 20-30s electrical pacing at 1Hz\n",
    "\n",
    "# splits are arrays of 2 element arrays\n",
    "# the first number is the starting frame/seconds, and the second number is the end frame/seconds\n",
    "# the last second number should be None to indicate that you are analyzing until the end of the video\n",
    "splits = [[0, 20],\n",
    "          [20, None]\n",
    "         ]\n",
    "\n",
    "# split units are either 'seconds' or frames'\n",
    "split_units = 'seconds'\n",
    "\n",
    "# skip_first_n is used to skip the first n 'seconds' or frames' from analysis\n",
    "# this is used when you want to exclude the beginning of each split\n",
    "# to let your cardiomyocytes acclimate to the new drug/electrical pacing\n",
    "skip_first_n = 0"
   ]
  },
  {
   "cell_type": "code",
   "execution_count": 8,
   "metadata": {},
   "outputs": [],
   "source": [
    "# convert splits into units of frames (split_units are either in 'seconds' or 'frames')\n",
    "if split_units == \"seconds\":\n",
    "    # multiply by frame_rate if it's not None\n",
    "    splits_frames = [[int(np.round(sec * frame_rate)) if sec else None for sec in split] for split in splits]\n",
    "    skip_first_n_frames = int(np.round(skip_first_n * frame_rate))\n",
    "else:\n",
    "    splits_frames = splits\n",
    "    skip_first_n_frames = skip_first_n"
   ]
  },
  {
   "cell_type": "markdown",
   "metadata": {},
   "source": [
    "### 3. Defining what to analyze and export"
   ]
  },
  {
   "cell_type": "code",
   "execution_count": 9,
   "metadata": {},
   "outputs": [],
   "source": [
    "### DEFINE a list of things to export\n",
    "\n",
    "# 'labeled_video' is only for pillar deflection analysis\n",
    "export_list = ['summary',\n",
    "               'peak_summary',\n",
    "               'traces',\n",
    "               'plot_trace',\n",
    "               'plot_mask',\n",
    "               'labeled_video',\n",
    "               'beat_segments']\n",
    "\n"
   ]
  },
  {
   "cell_type": "code",
   "execution_count": 10,
   "metadata": {},
   "outputs": [],
   "source": [
    "# save locations\n",
    "if \"plot_mask\" in export_list:\n",
    "    plot_mask = True\n",
    "    plot_mask_path = os.path.join(export_path, \"plot_mask\")\n",
    "else:\n",
    "    plot_mask = False\n",
    "    plot_mask_path = None\n",
    "\n",
    "if \"labeled_video\" in export_list:\n",
    "    labeled_video = True\n",
    "    labeled_video_path = os.path.join(export_path, \"labeled_video\")\n",
    "else:\n",
    "    labeled_video = False\n",
    "    labeled_video_path = None\n",
    "\n",
    "if \"plot_trace\" in export_list:\n",
    "    plot_trace = True\n",
    "    plot_trace_path = os.path.join(export_path, \"plot_trace\")\n",
    "else:\n",
    "    plot_trace = False\n",
    "    plot_trace_path = None\n"
   ]
  },
  {
   "cell_type": "markdown",
   "metadata": {},
   "source": [
    "### 4. Read video and extract time series\n",
    "#### Run either 4A (Contractiliy/Calcium) or 4B (Tissue) depending on your analysis"
   ]
  },
  {
   "cell_type": "markdown",
   "metadata": {},
   "source": [
    "#### 4A. Contractility and Calcium Analysis"
   ]
  },
  {
   "cell_type": "code",
   "execution_count": 47,
   "metadata": {},
   "outputs": [],
   "source": [
    "### DEFINE Video parameters\n",
    "\n",
    "# video type is either 'brightfield' (contractility) or \"fluorescent\" (Calcium/Voltage)\n",
    "vid_type = \"fluorescent\"\n",
    "\n",
    "# settings for mask calculations\n",
    "video_mask_config = {\n",
    "                     # sometimes masks are inverted. in that case, change this to True. Otherwise, default is False\n",
    "                     'invert': False,\n",
    "                     # Method for detecting the region of interest. Needs to be one of the following: None, \"dynamic range\", \"max fft\", \"mean fft\", \"fundamental\", \"YOLOv8 segmentation\"\n",
    "                     'method': 'YOLOv8 segmentation'\n",
    "}\n",
    "\n",
    "# settings for trace calculations (only need to define for contractility modality)\n",
    "video_trace_config = {\n",
    "                      # reference : 'auto', 'mean', 'range', or 'manual'\n",
    "                      'reference': \"auto\"\n",
    "}"
   ]
  },
  {
   "cell_type": "code",
   "execution_count": 48,
   "metadata": {},
   "outputs": [],
   "source": [
    "raw_traces = pd.DataFrame()\n",
    "\n",
    "for i in range(len(file_list)):\n",
    "    \n",
    "    # Assigning name for each video\n",
    "    if file_list[i] == folder_path:\n",
    "        name = os.path.basename(file_list[i])\n",
    "    else:\n",
    "        name = os.path.splitext(file_list[i].replace(folder_path, \"\")[1:])[0]\n",
    "    \n",
    "    # calcium/voltage videos\n",
    "    if vid_type == \"fluorescent\":\n",
    "        video = bp.FluoVideo(file_path=file_list[i], acq_mode=acq_mode, frame_rate=frame_rate, name=name, low_ram=low_ram, max_bpm=360)\n",
    "    \n",
    "    # contractility videos\n",
    "    else:\n",
    "        video = bp.BFVideo(file_path=file_list[i], acq_mode=acq_mode, frame_rate=frame_rate, name=name, low_ram=low_ram, max_bpm=360)\n",
    "    \n",
    "    # calculate mask\n",
    "    video.calculate_mask(savefig=plot_mask, savefig_path=plot_mask_path, **video_mask_config)\n",
    "    \n",
    "    # extract trace\n",
    "    video.calculate_trace(**video_trace_config)\n",
    "    \n",
    "    # append trace to the dataframe\n",
    "    raw_traces = pd.concat([raw_traces, pd.Series(video.trace[1:], name = name).to_frame().T])"
   ]
  },
  {
   "cell_type": "markdown",
   "metadata": {},
   "source": [
    "#### 4B. Pillar Deflection Analysis (Tissue Force)"
   ]
  },
  {
   "cell_type": "code",
   "execution_count": 11,
   "metadata": {},
   "outputs": [],
   "source": [
    "### DEFINE Video parameters\n",
    "\n",
    "# video type is tissue (pillar deflection)\n",
    "vid_type = \"tissue\"\n",
    "\n",
    "# settings for mask calculations\n",
    "video_mask_config = {\n",
    "                     # sometimes masks are inverted. in that case, change this to True. Otherwise, default is False\n",
    "                     'invert': False,\n",
    "                     # Method for detecting the region of interest. Needs to be one of the following: None, \"dynamic range\", \"max fft\", \"mean fft\", \"fundamental\", \"YOLOv8 segmentation\"\n",
    "                     'method': 'YOLOv8 segmentation',\n",
    "                     # path to the segmentation model if method is 'YOLOv8 segmentation'\n",
    "                     'yolo_seg_model': r\"C:\\Program Files (x86)\\BeatProfiler\\_internal\\yolo_models\\tissue seg milliPillar.pt\",}\n",
    "\n",
    "# settings for trace calculations (only need to define for contractility modality)\n",
    "video_trace_config = {\n",
    "                      # method for selecting object to track (str or np.array)\n",
    "                      # files ending in .pt is expected to be a YOLOv8 model to detect anchor bounding box\n",
    "                      # files ending in .csv is expected to contain coordinates of 2 bounding boxes in this format (x1,y1,x2,y2) for each box\n",
    "                      # numpy array is expected to be in shape (2,4)\n",
    "                      'bounding_box': r\"C:\\Users\\YBLab\\Documents\\GitHub\\BeatProfiler\\yolo_models\\pillar det milliPillar.pt\",\n",
    "                      # 'grid' for a grid like point tracking, auto' for ShiTomasi method\n",
    "                      'anchor_method': 'grid',\n",
    "                      # number of points for each anchor to use to track\n",
    "                      'n': 25,\n",
    "                      # optical flow parameter\n",
    "                      'window_size': 30}"
   ]
  },
  {
   "cell_type": "code",
   "execution_count": 12,
   "metadata": {},
   "outputs": [
    {
     "name": "stderr",
     "output_type": "stream",
     "text": [
      "\n",
      "0: 576x1024 2 1s, 11.5ms\n",
      "Speed: 31.5ms preprocess, 11.5ms inference, 7.0ms postprocess per image at shape (1, 3, 1024, 1024)\n",
      "\n",
      "0: 576x1024 1 t, 30.0ms\n",
      "Speed: 29.8ms preprocess, 30.0ms inference, 8.0ms postprocess per image at shape (1, 3, 1024, 1024)\n"
     ]
    },
    {
     "data": {
      "text/plain": [
       "<Figure size 640x480 with 0 Axes>"
      ]
     },
     "metadata": {},
     "output_type": "display_data"
    }
   ],
   "source": [
    "raw_traces = pd.DataFrame()\n",
    "tissue_params = {}\n",
    "\n",
    "for i in range(len(file_list)):\n",
    "    \n",
    "    # Assigning name for each video\n",
    "    if file_list[i] == folder_path:\n",
    "        name = os.path.basename(file_list[i])\n",
    "    else:\n",
    "        name = os.path.splitext(file_list[i].replace(folder_path, \"\")[1:])[0]\n",
    "    \n",
    "    # Initialize Tissue Video\n",
    "    video = bp.TissueVideo(file_path=file_list[i], acq_mode=acq_mode, frame_rate=frame_rate, name=name, low_ram=low_ram, max_bpm=360)\n",
    "    \n",
    "    # for tissue video analysis, calculate mask and trace needs to be run first before width calculation\n",
    "    video.calculate_trace(savevid=labeled_video, savevid_path=labeled_video_path, **video_trace_config)\n",
    "    video.calculate_mask(savefig=plot_mask, savefig_path=plot_mask_path, **video_mask_config)\n",
    "    video.calculate_width(savefig=plot_mask, savefig_path=plot_mask_path)\n",
    "\n",
    "    # save tissue specific parameters\n",
    "    if not \"width_pxs\" in tissue_params.keys():\n",
    "        tissue_params[\"width_pxs\"] = []\n",
    "    if not \"tissue_areas\" in tissue_params.keys():\n",
    "        tissue_params[\"tissue_areas\"] = []\n",
    "    if not \"resting_dist_pxs\" in tissue_params.keys():\n",
    "        tissue_params[\"resting_dist_pxs\"] = []\n",
    "    tissue_params[\"width_pxs\"].append(video.width)\n",
    "    tissue_params[\"tissue_areas\"].append(video.area)\n",
    "    tissue_params[\"resting_dist_pxs\"].append(video.resting_dist)\n",
    "\n",
    "    # append trace to the dataframe\n",
    "    raw_traces = pd.concat([raw_traces, pd.Series(video.trace[1:], name = name).to_frame().T])"
   ]
  },
  {
   "cell_type": "markdown",
   "metadata": {},
   "source": [
    "### 5. Analyze trace to segment beats and extract function\n",
    "#### Run either 5A (Contractiliy/Calcium) or 5B (Tissue) depending on your analysis"
   ]
  },
  {
   "cell_type": "markdown",
   "metadata": {},
   "source": [
    "#### 5A. Contractility and Calcium Analysis"
   ]
  },
  {
   "cell_type": "code",
   "execution_count": 49,
   "metadata": {},
   "outputs": [],
   "source": [
    "### DEFINE Trace Parameters\n",
    "\n",
    "trace_drift_correction_config = {\n",
    "                                 # Photobleach correction method.\n",
    "                                 # None (no correction) for traces that do not need correction (such as contractility)\n",
    "                                 # 'exp' (recommended) fits an exponential decay function through the valley points to calculate the baseline F0.\n",
    "                                 # 'power' fits a power function that mimics an exponential decay (use if exp fails to converge).\n",
    "                                 # 'linear' fits a line of best fit.\n",
    "                                 # 'interpolation' interpolates between valley points in a 'connect the dot' fashion.\n",
    "                                 'method': 'exp', \n",
    "    \n",
    "                                 # Peak height prominence threshold for valley detection.\n",
    "                                 # Higher threshold is better for noisy signals, but too low values could miss valleys.\n",
    "                                 # This value will be ignored if method is None.\n",
    "                                 'min_prominence': 0.1}\n",
    "\n",
    "trace_analyze_peaks_config = {\n",
    "                              # Peak height prominence threshold for beat detection.\n",
    "                              # Higher threshold is better for noisy signals, but too low values could miss beats.\n",
    "                              'min_prominence': 0.2}"
   ]
  },
  {
   "cell_type": "code",
   "execution_count": 51,
   "metadata": {},
   "outputs": [
    {
     "data": {
      "text/plain": [
       "<Figure size 640x480 with 0 Axes>"
      ]
     },
     "metadata": {},
     "output_type": "display_data"
    }
   ],
   "source": [
    "# Extracting traces from videos\n",
    "\n",
    "os.makedirs(export_path, exist_ok=True)\n",
    "\n",
    "\n",
    "total_summary_splits = []\n",
    "peak_summary_splits = []\n",
    "raw_data_splits = []\n",
    "df_f0_splits = []\n",
    "velocity_splits = []\n",
    "segments_splits = []\n",
    "\n",
    "\n",
    "\n",
    "for split_i in range(len(splits)):\n",
    "    split = splits[split_i]\n",
    "    \n",
    "    total_summary = pd.DataFrame()\n",
    "    peak_summary = pd.DataFrame()\n",
    "    df_f0 = pd.DataFrame()\n",
    "    velocity = pd.DataFrame()\n",
    "    segments = pd.DataFrame()\n",
    "    raw_data = pd.DataFrame()\n",
    "\n",
    "    for i in range(len(raw_traces)):\n",
    "        # batch analysis of videos of different sizes results in nan values at the end\n",
    "        data_numpy = raw_traces.iloc[i, splits_frames[split_i][0]:splits_frames[split_i][1]].to_numpy()\n",
    "        data_numpy = data_numpy[~np.isnan(data_numpy)]\n",
    "        \n",
    "        # Excel sheets are named based on split number\n",
    "        if len(splits) == 1:\n",
    "            name = raw_traces.index[i]\n",
    "        else:\n",
    "            name = raw_traces.index[i] + \" split \" + str(split_i+1)\n",
    "\n",
    "        # suppress warnings: warnings are thrown when baseline fit doesnt converge well or if the number of peaks is < 3\n",
    "        with warnings.catch_warnings():\n",
    "            warnings.simplefilter(\"ignore\")\n",
    "            \n",
    "            # this variable doesnt exist if the optional block wasn't run above\n",
    "            if not 'skip_first_n_frames' in locals():\n",
    "                skip_first_n_frames = 0\n",
    "            \n",
    "            # traces \n",
    "            trace = bp.Trace(data=data_numpy,frame_rate=frame_rate, max_bpm=360, skip_first_n_frames=skip_first_n_frames, name=name)\n",
    "            trace.calculate_drift(**trace_drift_correction_config)\n",
    "            trace.analyze_peaks(savefig=plot_trace, savefig_path=plot_trace_path, **trace_analyze_peaks_config)\n",
    "        \n",
    "        # append all data extracted from this trace to the full dataframe\n",
    "        total_summary = pd.concat([total_summary,trace.feature_summary.to_frame().T])\n",
    "        peak_summary = pd.concat([peak_summary, trace.peak_summary])\n",
    "        df_f0 = pd.concat([df_f0, pd.Series(trace.df_f0, name=name).to_frame().T])\n",
    "        velocity = pd.concat([velocity, pd.Series(trace.velocity, name=name).to_frame().T])\n",
    "        segments = pd.concat([segments, trace.beat_segments])\n",
    "        raw_data = pd.concat([raw_data, pd.Series(trace.raw_data, name=name).to_frame().T])\n",
    "\n",
    "    # drop empty columns (i.e. velocity with vs without units, df/f0 amplitude, etc)\n",
    "    total_summary = total_summary.dropna(how=\"all\", axis=1)\n",
    "    peak_summary = peak_summary.dropna(how=\"all\", axis=1)\n",
    "\n",
    "    total_summary_splits.append(total_summary)\n",
    "    peak_summary_splits.append(peak_summary)\n",
    "\n",
    "    # relabel the columns in units of seconds\n",
    "    timestamp = np.linspace(start=0, stop=df_f0.shape[1]/frame_rate, num=df_f0.shape[1])\n",
    "    df_f0 = df_f0.rename(columns=dict(zip(df_f0.columns, timestamp)))\n",
    "    velocity = velocity.rename(columns=dict(zip(velocity.columns, timestamp)))\n",
    "    raw_data = raw_data.rename(columns=dict(zip(raw_data.columns, timestamp)))\n",
    "\n",
    "    seg_timestamp = np.linspace(start=0, stop=segments.shape[1]/frame_rate, num=segments.shape[1])\n",
    "    segments = segments.rename(columns=dict(zip(segments.columns, seg_timestamp)))\n",
    "\n",
    "    df_f0_splits.append(df_f0)\n",
    "    velocity_splits.append(velocity)\n",
    "    raw_data_splits.append(raw_data)\n",
    "    segments_splits.append(segments)"
   ]
  },
  {
   "cell_type": "markdown",
   "metadata": {},
   "source": [
    "#### 5B. Pillar Deflection Analysis (Tissue Force)"
   ]
  },
  {
   "cell_type": "code",
   "execution_count": 13,
   "metadata": {},
   "outputs": [],
   "source": [
    "### DEFINE Trace Parameters\n",
    "\n",
    "tissue_init_config = {\n",
    "                      # Conversion factor between pixels to microns.\n",
    "                      # Determined by the camera CMOS sensor pixel size and binning settings.\n",
    "                      'um_per_pix': 6.5,\n",
    "    \n",
    "                      # Distance between anchors if no force is applied.\n",
    "                      # milliPillar platform has an unloaded distance of 3000μm.\"\n",
    "                      'unloaded_dist': 3000.0,\n",
    "    \n",
    "                      # Conversion factor between displacement and force.\n",
    "                      # Empirically determined value dependent on platform geometry and material properties.\n",
    "                      # milliPillar has a coefficient of 2.1 μN/μm.\"\n",
    "                      'force_disp_coeff': 2.1}\n",
    "\n",
    "trace_analyze_peaks_config = {\n",
    "                              # Peak height prominence threshold for beat detection.\n",
    "                              # Higher threshold is better for noisy signals, but too low values could miss beats.\n",
    "                              'min_prominence': 0.2}"
   ]
  },
  {
   "cell_type": "code",
   "execution_count": 14,
   "metadata": {},
   "outputs": [
    {
     "data": {
      "text/plain": [
       "<Figure size 640x480 with 0 Axes>"
      ]
     },
     "metadata": {},
     "output_type": "display_data"
    }
   ],
   "source": [
    "# Extracting traces from videos\n",
    "\n",
    "os.makedirs(export_path, exist_ok=True)\n",
    "\n",
    "\n",
    "total_summary_splits = []\n",
    "peak_summary_splits = []\n",
    "raw_data_splits = []\n",
    "df_f0_splits = []\n",
    "velocity_splits = []\n",
    "segments_splits = []\n",
    "distance_splits = []\n",
    "force_splits = []\n",
    "stress_splits = []\n",
    "\n",
    "\n",
    "\n",
    "for split_i in range(len(splits)):\n",
    "    split = splits[split_i]\n",
    "    total_summary = pd.DataFrame()\n",
    "    peak_summary = pd.DataFrame()\n",
    "    df_f0 = pd.DataFrame()\n",
    "    velocity = pd.DataFrame()\n",
    "    segments = pd.DataFrame()\n",
    "    distance = pd.DataFrame()\n",
    "    force = pd.DataFrame()\n",
    "    stress = pd.DataFrame()\n",
    "\n",
    "    for i in range(len(raw_traces)):\n",
    "\n",
    "        # batch analysis of videos of different sizes results in nan values at the end\n",
    "        data_numpy = raw_traces.iloc[i, splits_frames[split_i][0]:splits_frames[split_i][1]].to_numpy()\n",
    "        data_numpy = data_numpy[~np.isnan(data_numpy)]\n",
    "        \n",
    "        # Excel sheets are named based on split number\n",
    "        if len(splits) == 1:\n",
    "            name = raw_traces.index[i]\n",
    "        else:\n",
    "            name = raw_traces.index[i] + \" split \" + str(split_i+1)\n",
    "\n",
    "        # suppress warnings\n",
    "        # warnings are thrown when baseline fit doesnt converge well or if the number of peaks is < 3\n",
    "        with warnings.catch_warnings():\n",
    "            warnings.simplefilter(\"ignore\")\n",
    "            trace = bp.TissueTrace(data=data_numpy, frame_rate=frame_rate, max_bpm=360, name=name, skip_first_n_frames=skip_first_n_frames,\n",
    "                width_px=tissue_params[\"width_pxs\"][i], area=tissue_params[\"tissue_areas\"][i], \n",
    "                resting_dist_px=tissue_params[\"resting_dist_pxs\"][i], \n",
    "                **tissue_init_config)\n",
    "            trace.analyze_peaks(savefig=plot_trace, savefig_path=plot_trace_path, **trace_analyze_peaks_config)\n",
    "        total_summary = pd.concat([total_summary,trace.feature_summary.to_frame().T])\n",
    "        peak_summary = pd.concat([peak_summary, trace.peak_summary])\n",
    "        df_f0 = pd.concat([df_f0, pd.Series(trace.df_f0, name=name).to_frame().T])\n",
    "        velocity = pd.concat([velocity, pd.Series(trace.velocity, name=name).to_frame().T])\n",
    "        segments = pd.concat([segments, trace.beat_segments])\n",
    "        distance = pd.concat([distance, pd.Series(trace.distance, name=name).to_frame().T])\n",
    "        force = pd.concat([force, pd.Series(trace.force, name=name).to_frame().T])\n",
    "        stress = pd.concat([stress, pd.Series(trace.stress, name=name).to_frame().T])\n",
    "\n",
    "\n",
    "    # drop empty columns (i.e. velocity with vs without units, df/f0 amplitude, etc)\n",
    "    total_summary = total_summary.dropna(how=\"all\", axis=1)\n",
    "    peak_summary = peak_summary.dropna(how=\"all\", axis=1)\n",
    "\n",
    "    total_summary_splits.append(total_summary)\n",
    "    peak_summary_splits.append(peak_summary)\n",
    "\n",
    "    # relabel the columns in units of seconds\n",
    "    timestamp = np.linspace(start=0, stop=df_f0.shape[1]/frame_rate, num=df_f0.shape[1])\n",
    "    df_f0 = df_f0.rename(columns=dict(zip(df_f0.columns, timestamp)))\n",
    "    distance = distance.rename(columns=dict(zip(distance.columns, timestamp)))\n",
    "    force = force.rename(columns=dict(zip(force.columns, timestamp)))\n",
    "    stress = stress.rename(columns=dict(zip(stress.columns, timestamp)))\n",
    "    velocity = velocity.rename(columns=dict(zip(velocity.columns, timestamp)))\n",
    "\n",
    "    seg_timestamp = np.linspace(start=0, stop=segments.shape[1]/frame_rate, num=segments.shape[1])\n",
    "    segments = segments.rename(columns=dict(zip(segments.columns, seg_timestamp)))\n",
    "\n",
    "    df_f0_splits.append(df_f0)\n",
    "    distance_splits.append(distance)\n",
    "    force_splits.append(force)\n",
    "    stress_splits.append(stress)\n",
    "    velocity_splits.append(velocity)\n",
    "    segments_splits.append(segments)"
   ]
  },
  {
   "cell_type": "markdown",
   "metadata": {},
   "source": [
    "### 6. Save and export Excel files"
   ]
  },
  {
   "cell_type": "code",
   "execution_count": 15,
   "metadata": {},
   "outputs": [],
   "source": [
    "if \"summary\" in export_list:\n",
    "    summary_writer =  pd.ExcelWriter(os.path.join(export_path, \"summary.xlsx\"))\n",
    "if \"peak_summary\" in export_list:\n",
    "    peak_summary_writer = pd.ExcelWriter(os.path.join(export_path, \"peak_summary.xlsx\"))\n",
    "if \"traces\" in export_list:\n",
    "    velocity_writer = pd.ExcelWriter(os.path.join(export_path, \"velocity.xlsx\"))\n",
    "    if vid_type == \"tissue\":\n",
    "        distance_writer = pd.ExcelWriter(os.path.join(export_path, \"pillar_distance.xlsx\"))\n",
    "        df_f0_writer = pd.ExcelWriter(os.path.join(export_path, \"pillar_deflection.xlsx\"))\n",
    "        force_writer = pd.ExcelWriter(os.path.join(export_path, \"force.xlsx\"))\n",
    "        stress_writer = pd.ExcelWriter(os.path.join(export_path, \"stress.xlsx\"))\n",
    "    else:\n",
    "        raw_trace_writer = pd.ExcelWriter(os.path.join(export_path, \"raw_trace.xlsx\"))\n",
    "        df_f0_writer = pd.ExcelWriter(os.path.join(export_path, \"df_f0.xlsx\"))\n",
    "\n",
    "if \"beat_segments\" in export_list:\n",
    "    beat_segments_writer = pd.ExcelWriter(os.path.join(export_path, \"beat_segments.xlsx\")) \n",
    "\n",
    "for split_i in range(len(splits)):\n",
    "    if len(splits) == 1:\n",
    "        split_name = \"full_trace\"\n",
    "    elif split_i == len(splits)-1:\n",
    "        split_name = \"split_\" + str(split_i+1) + \" (\" + str(splits[split_i][0]) + \"-end) \" + split_units\n",
    "    else:\n",
    "        split_name = \"split_\" + str(split_i+1) + \" (\" + str(splits[split_i][0]) + \"-\" + str(splits[split_i][1]) + \") \" + split_units\n",
    "\n",
    "    if \"summary\" in export_list:\n",
    "        total_summary_splits[split_i].to_excel(summary_writer, sheet_name=split_name, engine='xlsxwriter')\n",
    "    if \"peak_summary\" in export_list:\n",
    "        peak_summary_splits[split_i].to_excel(peak_summary_writer, sheet_name=split_name, engine='xlsxwriter')\n",
    "    if \"traces\" in export_list:\n",
    "        df_f0_splits[split_i].to_excel(df_f0_writer, sheet_name=split_name, engine='xlsxwriter')\n",
    "        velocity_splits[split_i].to_excel(velocity_writer, sheet_name=split_name, engine='xlsxwriter')\n",
    "        if vid_type == \"tissue\":\n",
    "            distance_splits[split_i].to_excel(distance_writer, sheet_name=split_name, engine='xlsxwriter')\n",
    "            force_splits[split_i].to_excel(force_writer, sheet_name=split_name, engine='xlsxwriter')\n",
    "            stress_splits[split_i].to_excel(stress_writer, sheet_name=split_name, engine='xlsxwriter')\n",
    "        else:\n",
    "            raw_data_splits[split_i].to_excel(raw_trace_writer, sheet_name=split_name, engine='xlsxwriter')\n",
    "    if \"beat_segments\" in export_list:\n",
    "        segments_splits[split_i].to_excel(beat_segments_writer, sheet_name=split_name, engine='xlsxwriter')\n",
    "\n",
    "if 'summary_writer' in locals():\n",
    "    summary_writer.close()\n",
    "if 'peak_summary_writer' in locals():\n",
    "    peak_summary_writer.close()\n",
    "if 'raw_trace_writer' in locals():\n",
    "    raw_trace_writer.close()\n",
    "if 'df_f0_writer' in locals():\n",
    "    df_f0_writer.close()\n",
    "if 'distance_writer' in locals():\n",
    "    distance_writer.close()\n",
    "if 'force_writer' in locals():\n",
    "    force_writer.close()\n",
    "if 'stress_writer' in locals():\n",
    "    stress_writer.close()\n",
    "if 'velocity_writer' in locals():\n",
    "    velocity_writer.close()\n",
    "if 'beat_segments_writer' in locals():\n",
    "    beat_segments_writer.close()"
   ]
  },
  {
   "cell_type": "code",
   "execution_count": null,
   "metadata": {},
   "outputs": [],
   "source": []
  },
  {
   "cell_type": "markdown",
   "metadata": {},
   "source": [
    "### (Bonus) Visualize in Jupyter Notebook\n",
    "\n",
    "Everything is already saved in your export folder, but it might be nice to quickly visualize on jupyter notebook sometimes."
   ]
  },
  {
   "cell_type": "code",
   "execution_count": 16,
   "metadata": {
    "scrolled": false
   },
   "outputs": [
    {
     "data": {
      "text/html": [
       "<div>\n",
       "<style scoped>\n",
       "    .dataframe tbody tr th:only-of-type {\n",
       "        vertical-align: middle;\n",
       "    }\n",
       "\n",
       "    .dataframe tbody tr th {\n",
       "        vertical-align: top;\n",
       "    }\n",
       "\n",
       "    .dataframe thead th {\n",
       "        text-align: right;\n",
       "    }\n",
       "</style>\n",
       "<table border=\"1\" class=\"dataframe\">\n",
       "  <thead>\n",
       "    <tr style=\"text-align: right;\">\n",
       "      <th></th>\n",
       "      <th>num beats</th>\n",
       "      <th>beat frequency [bpm]</th>\n",
       "      <th>RMSSD [s]</th>\n",
       "      <th>cross sectional area [mm2]</th>\n",
       "      <th>tissue area [mm2]</th>\n",
       "      <th>width [um]</th>\n",
       "      <th>resting tension [uN]</th>\n",
       "      <th>resting stress [mN/mm2]</th>\n",
       "      <th>mean RR interval [s]</th>\n",
       "      <th>mean active force [uN]</th>\n",
       "      <th>...</th>\n",
       "      <th>max passive length [um]</th>\n",
       "      <th>max passive stress [mN/mm2]</th>\n",
       "      <th>max passive tension [uN]</th>\n",
       "      <th>max relax50 [s]</th>\n",
       "      <th>max relax90 [s]</th>\n",
       "      <th>max relaxation speed [um/s]</th>\n",
       "      <th>max tau [s]</th>\n",
       "      <th>max total force [uN]</th>\n",
       "      <th>max total stress [mN/mm2]</th>\n",
       "      <th>max work per contraction cycle [nJ]</th>\n",
       "    </tr>\n",
       "  </thead>\n",
       "  <tbody>\n",
       "    <tr>\n",
       "      <th>bf tissue 20fps split 1</th>\n",
       "      <td>2.0</td>\n",
       "      <td>11.764706</td>\n",
       "      <td>5.1</td>\n",
       "      <td>0.158117</td>\n",
       "      <td>2737588.75</td>\n",
       "      <td>448.688366</td>\n",
       "      <td>231.600655</td>\n",
       "      <td>1.464739</td>\n",
       "      <td>5.1</td>\n",
       "      <td>311.969391</td>\n",
       "      <td>...</td>\n",
       "      <td>2889.523682</td>\n",
       "      <td>1.469841</td>\n",
       "      <td>232.407349</td>\n",
       "      <td>0.270344</td>\n",
       "      <td>0.44995</td>\n",
       "      <td>580.17334</td>\n",
       "      <td>0.307546</td>\n",
       "      <td>544.539795</td>\n",
       "      <td>3.443897</td>\n",
       "      <td>57.7856</td>\n",
       "    </tr>\n",
       "  </tbody>\n",
       "</table>\n",
       "<p>1 rows × 90 columns</p>\n",
       "</div>"
      ],
      "text/plain": [
       "                         num beats  beat frequency [bpm]  RMSSD [s]  \\\n",
       "bf tissue 20fps split 1        2.0             11.764706        5.1   \n",
       "\n",
       "                         cross sectional area [mm2]  tissue area [mm2]  \\\n",
       "bf tissue 20fps split 1                    0.158117         2737588.75   \n",
       "\n",
       "                         width [um]  resting tension [uN]  \\\n",
       "bf tissue 20fps split 1  448.688366            231.600655   \n",
       "\n",
       "                         resting stress [mN/mm2]  mean RR interval [s]  \\\n",
       "bf tissue 20fps split 1                 1.464739                   5.1   \n",
       "\n",
       "                         mean active force [uN]  ...  max passive length [um]  \\\n",
       "bf tissue 20fps split 1              311.969391  ...              2889.523682   \n",
       "\n",
       "                         max passive stress [mN/mm2]  \\\n",
       "bf tissue 20fps split 1                     1.469841   \n",
       "\n",
       "                         max passive tension [uN]  max relax50 [s]  \\\n",
       "bf tissue 20fps split 1                232.407349         0.270344   \n",
       "\n",
       "                         max relax90 [s]  max relaxation speed [um/s]  \\\n",
       "bf tissue 20fps split 1          0.44995                    580.17334   \n",
       "\n",
       "                         max tau [s]  max total force [uN]  \\\n",
       "bf tissue 20fps split 1     0.307546            544.539795   \n",
       "\n",
       "                         max total stress [mN/mm2]  \\\n",
       "bf tissue 20fps split 1                   3.443897   \n",
       "\n",
       "                         max work per contraction cycle [nJ]  \n",
       "bf tissue 20fps split 1                              57.7856  \n",
       "\n",
       "[1 rows x 90 columns]"
      ]
     },
     "metadata": {},
     "output_type": "display_data"
    },
    {
     "data": {
      "text/html": [
       "<div>\n",
       "<style scoped>\n",
       "    .dataframe tbody tr th:only-of-type {\n",
       "        vertical-align: middle;\n",
       "    }\n",
       "\n",
       "    .dataframe tbody tr th {\n",
       "        vertical-align: top;\n",
       "    }\n",
       "\n",
       "    .dataframe thead th {\n",
       "        text-align: right;\n",
       "    }\n",
       "</style>\n",
       "<table border=\"1\" class=\"dataframe\">\n",
       "  <thead>\n",
       "    <tr style=\"text-align: right;\">\n",
       "      <th></th>\n",
       "      <th>num beats</th>\n",
       "      <th>beat frequency [bpm]</th>\n",
       "      <th>RMSSD [s]</th>\n",
       "      <th>cross sectional area [mm2]</th>\n",
       "      <th>tissue area [mm2]</th>\n",
       "      <th>width [um]</th>\n",
       "      <th>resting tension [uN]</th>\n",
       "      <th>resting stress [mN/mm2]</th>\n",
       "      <th>mean RR interval [s]</th>\n",
       "      <th>mean active force [uN]</th>\n",
       "      <th>...</th>\n",
       "      <th>max passive length [um]</th>\n",
       "      <th>max passive stress [mN/mm2]</th>\n",
       "      <th>max passive tension [uN]</th>\n",
       "      <th>max relax50 [s]</th>\n",
       "      <th>max relax90 [s]</th>\n",
       "      <th>max relaxation speed [um/s]</th>\n",
       "      <th>max tau [s]</th>\n",
       "      <th>max total force [uN]</th>\n",
       "      <th>max total stress [mN/mm2]</th>\n",
       "      <th>max work per contraction cycle [nJ]</th>\n",
       "    </tr>\n",
       "  </thead>\n",
       "  <tbody>\n",
       "    <tr>\n",
       "      <th>bf tissue 20fps split 2</th>\n",
       "      <td>7.0</td>\n",
       "      <td>61.016949</td>\n",
       "      <td>0.984039</td>\n",
       "      <td>0.158117</td>\n",
       "      <td>2737588.75</td>\n",
       "      <td>448.688366</td>\n",
       "      <td>231.600655</td>\n",
       "      <td>1.464739</td>\n",
       "      <td>0.983333</td>\n",
       "      <td>231.204422</td>\n",
       "      <td>...</td>\n",
       "      <td>2878.664795</td>\n",
       "      <td>1.743605</td>\n",
       "      <td>275.694214</td>\n",
       "      <td>0.279856</td>\n",
       "      <td>0.394282</td>\n",
       "      <td>507.529297</td>\n",
       "      <td>0.308025</td>\n",
       "      <td>489.249725</td>\n",
       "      <td>3.094219</td>\n",
       "      <td>41.533401</td>\n",
       "    </tr>\n",
       "  </tbody>\n",
       "</table>\n",
       "<p>1 rows × 90 columns</p>\n",
       "</div>"
      ],
      "text/plain": [
       "                         num beats  beat frequency [bpm]  RMSSD [s]  \\\n",
       "bf tissue 20fps split 2        7.0             61.016949   0.984039   \n",
       "\n",
       "                         cross sectional area [mm2]  tissue area [mm2]  \\\n",
       "bf tissue 20fps split 2                    0.158117         2737588.75   \n",
       "\n",
       "                         width [um]  resting tension [uN]  \\\n",
       "bf tissue 20fps split 2  448.688366            231.600655   \n",
       "\n",
       "                         resting stress [mN/mm2]  mean RR interval [s]  \\\n",
       "bf tissue 20fps split 2                 1.464739              0.983333   \n",
       "\n",
       "                         mean active force [uN]  ...  max passive length [um]  \\\n",
       "bf tissue 20fps split 2              231.204422  ...              2878.664795   \n",
       "\n",
       "                         max passive stress [mN/mm2]  \\\n",
       "bf tissue 20fps split 2                     1.743605   \n",
       "\n",
       "                         max passive tension [uN]  max relax50 [s]  \\\n",
       "bf tissue 20fps split 2                275.694214         0.279856   \n",
       "\n",
       "                         max relax90 [s]  max relaxation speed [um/s]  \\\n",
       "bf tissue 20fps split 2         0.394282                   507.529297   \n",
       "\n",
       "                         max tau [s]  max total force [uN]  \\\n",
       "bf tissue 20fps split 2     0.308025            489.249725   \n",
       "\n",
       "                         max total stress [mN/mm2]  \\\n",
       "bf tissue 20fps split 2                   3.094219   \n",
       "\n",
       "                         max work per contraction cycle [nJ]  \n",
       "bf tissue 20fps split 2                            41.533401  \n",
       "\n",
       "[1 rows x 90 columns]"
      ]
     },
     "metadata": {},
     "output_type": "display_data"
    }
   ],
   "source": [
    "for split_i in range(len(splits)):\n",
    "    display(total_summary_splits[split_i])"
   ]
  },
  {
   "cell_type": "code",
   "execution_count": 17,
   "metadata": {
    "scrolled": false
   },
   "outputs": [
    {
     "data": {
      "image/png": "[encoded data removed]",
      "text/plain": [
       "<Figure size 640x480 with 1 Axes>"
      ]
     },
     "metadata": {},
     "output_type": "display_data"
    },
    {
     "data": {
      "image/png": "[encoded data removed]",
      "text/plain": [
       "<Figure size 640x480 with 1 Axes>"
      ]
     },
     "metadata": {},
     "output_type": "display_data"
    }
   ],
   "source": [
    "for split_i in range(len(splits)):\n",
    "    for i, trace in df_f0_splits[split_i].iterrows():\n",
    "        plt.plot(trace)\n",
    "        plt.title(i)\n",
    "        plt.show()"
   ]
  },
  {
   "cell_type": "code",
   "execution_count": null,
   "metadata": {},
   "outputs": [],
   "source": []
  }
 ],
 "metadata": {
  "kernelspec": {
   "display_name": "guienv",
   "language": "python",
   "name": "guienv"
  },
  "language_info": {
   "codemirror_mode": {
    "name": "ipython",
    "version": 3
   },
   "file_extension": ".py",
   "mimetype": "text/x-python",
   "name": "python",
   "nbconvert_exporter": "python",
   "pygments_lexer": "ipython3",
   "version": "3.9.15"
  }
 },
 "nbformat": 4,
 "nbformat_minor": 4
}
